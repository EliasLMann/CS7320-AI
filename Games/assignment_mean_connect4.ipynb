{
 "cells": [
  {
   "cell_type": "markdown",
   "metadata": {},
   "source": [
    "# Adversarial Search: Playing \"Mean\" Connect 4\n",
    "\n",
    "\n",
    "## Instructions\n",
    "\n",
    "Total Points: Undegraduates 10, graduate students 11\n",
    "\n",
    "Complete this notebook and submit it. The notebook needs to be a complete project report with your implementation, documentation including a short discussion of how your implementation works and your design choices, and experimental results (e.g., tables and charts with simulation results) with a short discussion of what they mean. Use the provided notebook cells and insert additional code and markdown cells as needed.\n",
    "\n",
    "## Introduction\n",
    "\n",
    "You will implement different versions of agents that play \"Mean\" Connect 4:\n",
    "\n",
    "> \"Connect 4 is a two-player connection board game, in which the players choose a color and then take turns dropping colored discs into a seven-column, six-row vertically suspended grid. The pieces fall straight down, occupying the lowest available space within the column. The objective of the game is to be the first to form a horizontal, vertical, or diagonal line of four of one's own discs.\" (see [Connect Four on Wikipedia](https://en.wikipedia.org/wiki/Connect_Four))\n",
    "\n",
    "> **The mean part:** This game has an additional rule. Every time it is a player's turn, the player can decide to instead of playing a new disk, take a bottom row disk of the opponent and place it in any column. All disks above the removed disk will fall down one position. Note that a player can only move an _opponent's disc_ that is in the _bottom row_ of the board.\n",
    "\n",
    "Note that normal [Connect-4 has been solved](https://en.wikipedia.org/wiki/Connect_Four#Mathematical_solution)\n",
    "in 1988. A connect-4 solver with a discussion of how to solve different parts of the problem can be found here: https://connect4.gamesolver.org/en/"
   ]
  },
  {
   "cell_type": "markdown",
   "metadata": {},
   "source": [
    "## Task 1: Defining the Search Problem [1 point]\n",
    "\n",
    "Define the components of the search problem associated with this game:\n",
    "\n",
    "* Initial state\n",
    "* Actions\n",
    "* Transition model\n",
    "* Test for the terminal state\n",
    "* Utility for terminal states"
   ]
  },
  {
   "cell_type": "markdown",
   "metadata": {},
   "source": [
    "Inital State: An empty board <br>\n",
    "Actions: Open columns, bottom of columns where an opponents piece has been placed.<br>\n",
    "Transition Model: Place a friendly piece at the top of an open column, or remove an opponents piece from the bottom of a column, which shifts the rest of the column down, and place their piece in an open column. <br>\n",
    "Test for Terminal State: Did a player place at least 4 pieces in a row (vertically, horizonally, or diagonally)? <br>\n",
    "Utility for Terminal State: ?????????<br>"
   ]
  },
  {
   "cell_type": "markdown",
   "metadata": {},
   "source": [
    "How big is the state space? Give an estimate and explain it."
   ]
  },
  {
   "cell_type": "markdown",
   "metadata": {},
   "source": [
    "Since there are 42 possible positions on a 7x6 board, and each position can be in 1 of 3 states (friend piece, enemy piece, no piece), the state space size would be slightly less than $3^{42} ≈ 1.094*10^{20}$ .<br><br>\n",
    "\n",
    "The state space is less because there are rule constraints that prevent certain configurations from occuring; the game ends when at least one player has at least 4 consecutive pieces on the board. Therefore there can be a board with multiple sets of at least 4 consecutive, same-color pieces, if and only if there exists a common column where every set has at least 1 piece."
   ]
  },
  {
   "cell_type": "markdown",
   "metadata": {},
   "source": [
    "How big is the game tree that minimax search will go through? Give an estimate and explain it."
   ]
  },
  {
   "cell_type": "code",
   "execution_count": 3,
   "metadata": {},
   "outputs": [],
   "source": [
    "# Your code/ answer goes here."
   ]
  },
  {
   "cell_type": "markdown",
   "metadata": {},
   "source": [
    "## Task 2: Game Environment and Random Agent [3 point]\n",
    "\n",
    "You can use a numpy character array as the board. Note that the following function can create boards of different sizes."
   ]
  },
  {
   "cell_type": "code",
   "execution_count": 4,
   "metadata": {},
   "outputs": [
    {
     "name": "stdout",
     "output_type": "stream",
     "text": [
      "[[0 0 0 0 0 0 0]\n",
      " [0 0 0 0 0 0 0]\n",
      " [0 0 0 0 0 0 0]\n",
      " [0 0 0 0 0 0 0]\n",
      " [0 0 0 0 0 0 0]\n",
      " [0 0 0 0 0 0 0]]\n"
     ]
    }
   ],
   "source": [
    "import numpy as np\n",
    "\n",
    "def empty_board(shape=(6, 7)):\n",
    "    return np.full(shape=shape, fill_value=0)\n",
    "\n",
    "print(empty_board())"
   ]
  },
  {
   "cell_type": "markdown",
   "metadata": {},
   "source": [
    "Instead of colors (red and yellow), you can use 1 and -1 to represent the players Max and Min. Make sure that your agent functions all have the from: `agent_type(board, player = 1)`, where board is the current board position and player is the player (1, -1) whose next move it is and who the agent should play."
   ]
  },
  {
   "cell_type": "markdown",
   "metadata": {},
   "source": [
    "Visualization code by Randolph Rankin:"
   ]
  },
  {
   "cell_type": "code",
   "execution_count": 5,
   "metadata": {
    "scrolled": true
   },
   "outputs": [
    {
     "data": {
      "image/png": "[encoded data removed]",
      "text/plain": [
       "<Figure size 432x288 with 1 Axes>"
      ]
     },
     "metadata": {
      "needs_background": "light"
     },
     "output_type": "display_data"
    }
   ],
   "source": [
    "import matplotlib.pyplot as plt\n",
    "\n",
    "def visualize(board):\n",
    "    plt.axes()\n",
    "    rectangle=plt.Rectangle((-0.5,len(board)*-1+0.5),len(board[0]),len(board),fc='blue')\n",
    "    circles=[]\n",
    "    for i,row in enumerate(board):\n",
    "        for j,val in enumerate(row):\n",
    "            color='white' if val==0 else 'red' if val==1 else 'yellow'\n",
    "            circles.append(plt.Circle((j,i*-1),0.4,fc=color))\n",
    "\n",
    "    plt.gca().add_patch(rectangle)\n",
    "    for circle in circles:\n",
    "        plt.gca().add_patch(circle)\n",
    "\n",
    "    plt.axis('scaled')\n",
    "    plt.show()\n",
    "    \n",
    "board = [[0, 0, 0, 0, 0, 0, 0],\n",
    "         [0, 0, 0, 0, 0, 0, 0],\n",
    "         [0, 0, 0, 0, 0, 0, 0],\n",
    "         [0, 0, 0, 1, 0, 0, 0],\n",
    "         [0, 0, 0, 1, 0, 0, 0],\n",
    "         [0,-1,-1, 1,-1, 0, 0]]\n",
    "\n",
    "visualize(board)"
   ]
  },
  {
   "cell_type": "markdown",
   "metadata": {},
   "source": [
    "Implement helper functions for:\n",
    "\n",
    "* The transition model $result(s, a)$.\n",
    "* The utility function $utility(s)$.\n",
    "* Check for terminal states $terminal(s)$.\n",
    "* A check for available actions in each state $actions(s)$.\n",
    "\n",
    "Make sure that all these functions work with boards of different sizes (number of columns and rows)."
   ]
  },
  {
   "cell_type": "code",
   "execution_count": 164,
   "metadata": {},
   "outputs": [
    {
     "data": {
      "image/png": "[encoded data removed]",
      "text/plain": [
       "<Figure size 432x288 with 1 Axes>"
      ]
     },
     "metadata": {
      "needs_background": "light"
     },
     "output_type": "display_data"
    },
    {
     "name": "stdout",
     "output_type": "stream",
     "text": [
      "-1\n"
     ]
    }
   ],
   "source": [
    "#help function to place a tile in a given row\n",
    "def place_tile(board, col, player):\n",
    "    row = -1\n",
    "    #loop that finds the top of a column\n",
    "    while(board[row][col]!= 0): row-=1\n",
    "    board[row][col] = player\n",
    "\n",
    "\n",
    "def mean_move(board, shift_col, add_col):\n",
    "    add_player = board[-1][shift_col]\n",
    "    row  = -1\n",
    "    #loop moves up column until the current position has no pieces\n",
    "    while(board[row][shift_col] != 0):\n",
    "        #sets the top of the column to 0 if it is reached\n",
    "        if(abs(row) == len(board)): board[row][shift_col]=0\n",
    "        #replaces the piece in the current row with the piece in the row above it\n",
    "        else:\n",
    "            board[row][shift_col] = board[row-1][shift_col]\n",
    "            row-=1\n",
    "    #placing the removed tile in the desired row\n",
    "    place_tile(board, add_col, add_player)\n",
    "\n",
    "#=============pass in a copy of the board==================\n",
    "#transition model\n",
    "# action: tuple(column to be shifted, column to be added) negative shift column denotes normal move\n",
    "def execute_move(board, action, player):\n",
    "    #places tile in desired column if a normal move is made\n",
    "    if (action[0]<0): place_tile(board, action[1], player)\n",
    "    #executes mean move\n",
    "    else: mean_move(board, action[0], action[1])\n",
    "\n",
    "#actions\n",
    "#returns a list of all available moves for a given player\n",
    "def get_actions(board, player):\n",
    "    actions = []\n",
    "    shiftable_cols = []\n",
    "\n",
    "    #finding all the shiftable columns\n",
    "    for index, col in enumerate(board[-1]):\n",
    "        if col == -player: shiftable_cols.append(index)\n",
    "    \n",
    "    for index, col in enumerate(board[0]):\n",
    "        if col == 0:\n",
    "            #adds all normal moves to front of actions list\n",
    "            actions[:0] = [(-1, index)]\n",
    "            #adds all mean moves to back of actions list\n",
    "            for shift in shiftable_cols:\n",
    "                actions.append((shift, index))\n",
    "        #adds mean moves where the column is full, and the bottom piece is placed back on top of the same column\n",
    "        elif board[-1][index] == -player:\n",
    "            actions.append((index, index))\n",
    "    return actions\n",
    "\n",
    "#checking id there exists a vertical win\n",
    "def check_vertical(board, last_move):\n",
    "    row_placed = 0\n",
    "    #finding location of most recently placed piece\n",
    "    while board[row_placed][last_move[1]] == 0 : row_placed+=1\n",
    "\n",
    "    #returning 0 if the most recent piece is at the top of a column that is shorter than 4\n",
    "    if len(board) - row_placed < 4: return 0\n",
    "    #returning 1 if the most recent piece and the 3 pieces below it add up to 4\n",
    "    if(board[row_placed][last_move[1]] + board[row_placed+1][last_move[1]] + \n",
    "        board[row_placed+2][last_move[1]] + board[row_placed+3][last_move[1]] ==4): return 1\n",
    "    #returning -1 if the most recent piece and the 3 pieces below it add up to -4\n",
    "    if(board[row_placed][last_move[1]] + board[row_placed+1][last_move[1]] + \n",
    "        board[row_placed+2][last_move[1]] + board[row_placed+3][last_move[1]] == -4): return -1\n",
    "    #returning 0 if the above conditions fail\n",
    "    return 0\n",
    "\n",
    "def check_horizontal(board, last_move, player):\n",
    "    row_placed = 0\n",
    "    row_shifted = 0\n",
    "    opp_win = False\n",
    "\n",
    "    #not executing if the last move was a shift and the tile was place in the same column\n",
    "    if last_move[0] != last_move[1]:\n",
    "        #finding location of most recently placed piece\n",
    "        while board[row_placed][last_move[1]] == 0 : row_placed+=1\n",
    "        #finding the left-most possible position of a row of 4 containing the previously placed piece\n",
    "        left_pos = (last_move[1]-3, 0)[last_move[1]<3]\n",
    "\n",
    "        #looping though all possible horizontal rows of 4 containing the previously placed piece\n",
    "        while(left_pos+3 < len(board[0]) and left_pos <= last_move[1]):\n",
    "            if board[row_placed][left_pos:left_pos+4] == 4*[player]: return player\n",
    "            elif board[row_placed][left_pos:left_pos+4] == 4*[-player]: opp_win = True\n",
    "            left_pos+=1\n",
    "\n",
    "    #checking if most recent move was a shift move\n",
    "    if last_move[0] >= 0:\n",
    "        #finding top of most recently shifted column\n",
    "        while board[row_shifted][last_move[0]] == 0 : row_shifted+=1\n",
    "\n",
    "        for row in range(row_shifted, len(board)):\n",
    "            #finding the left-most possible position of a row of 4 containing the previouly placed piece\n",
    "            left_pos = (last_move[0]-3, 0)[last_move[0]<3]\n",
    "\n",
    "            #looping though all possible horizontal rows of 4 containing the previously placed piece\n",
    "            while(left_pos+3 < len(board[0]) and left_pos <= last_move[0]):\n",
    "                if board[row][left_pos:left_pos+4] == 4*[player]: return player\n",
    "                elif board[row][left_pos:left_pos+4] == 4*[-player]: opp_win = True\n",
    "                left_pos+=1\n",
    "    #returning 0 if no horizonal rows were found, returning -1 if the opponent achieved a horizonal row and the player didn't\n",
    "    return(0,-player)[opp_win]\n",
    "\n",
    "#function checks all diagonals for piece at a given location and returns result, 0 if no wins\n",
    "def diags_for_piece(board, piece_pos, player):\n",
    "    opp_win = 0\n",
    "\n",
    "    #finding the upper left end of a diagonal with recently placed tile given board contraints\n",
    "    if piece_pos[1] >2 and piece_pos[0]>2:\n",
    "        top_left = [piece_pos[0]-3, piece_pos[1]-3]\n",
    "    elif piece_pos[1] > piece_pos[0]:\n",
    "        top_left = [0, piece_pos[1]-piece_pos[0]]\n",
    "    else:\n",
    "        top_left = [piece_pos[0]-piece_pos[1], 0]\n",
    "\n",
    "     #finding the bottom left end of a diagonal with recently placed tile given board contraints\n",
    "    if (len(board) - piece_pos[1]) > 3 and piece_pos[0]>2:\n",
    "        bot_left = [piece_pos[0]-3, piece_pos[1]+3]\n",
    "    elif (len(board) - piece_pos[1])-1 > piece_pos[0]:\n",
    "        bot_left = [0, piece_pos[1]+piece_pos[0]]\n",
    "    else:\n",
    "        bot_left = [piece_pos[0]-( (len(board)-1) - piece_pos[1]), len(board)-1]\n",
    "\n",
    "    #loop checks all top-left diagonals containing the most recently placed tile and that fit on the board\n",
    "    while(top_left[0]+3 < len(board[0]) and top_left[1]+3 < len(board) and top_left[0] <= piece_pos[0]):\n",
    "            #if the diagonal is all player tiles, return the player as winner\n",
    "            if [board[top_left[1]][top_left[0]], board[top_left[1]+1][top_left[0]+1], board[top_left[1]+2][top_left[0]+2], \n",
    "                board[top_left[1]+3][top_left[0]+3]] == 4*[player]: return player\n",
    "\n",
    "            elif [board[top_left[1]][top_left[0]], board[top_left[1]+1][top_left[0]+1], board[top_left[1]+2][top_left[0]+2], \n",
    "                board[top_left[1]+3][top_left[0]+3]] == 4*[-player]: opp_win = -player\n",
    "\n",
    "            top_left[0]+=1\n",
    "            top_left[1]+=1\n",
    "\n",
    "    #loop checks all bottom-left diagonals containing the most recently placed tile and that fit on the board\n",
    "    while(bot_left[0]+3 < len(board[0]) and bot_left[1]-3 >= 0 and bot_left[0] <= piece_pos[0]):\n",
    "            #if the diagonal is all player tiles, return the player as winner\n",
    "            if [board[bot_left[1]][bot_left[0]], board[bot_left[1]-1][bot_left[0]+1], board[bot_left[1]-2][bot_left[0]+2], \n",
    "                board[bot_left[1]-3][bot_left[0]+3]] == 4*[player]: return player\n",
    "\n",
    "            elif [board[bot_left[1]][bot_left[0]], board[bot_left[1]-1][bot_left[0]+1], board[bot_left[1]-2][bot_left[0]+2], \n",
    "                board[bot_left[1]-3][bot_left[0]+3]] == 4*[-player]: opp_win = -player\n",
    "\n",
    "            bot_left[0]+=1\n",
    "            bot_left[1]-=1\n",
    "\n",
    "    return opp_win\n",
    "\n",
    "def check_diagonal(board, last_move, player):\n",
    "    row_placed = 0\n",
    "    row_shifted = 0\n",
    "    opp_win = False\n",
    "\n",
    "    #not executing if the last move was a shift and the tile was place in the same column\n",
    "    if last_move[0] != last_move[1]:\n",
    "        #finding location of most recently placed piece\n",
    "        while board[row_placed][last_move[1]] == 0 : row_placed+=1\n",
    "\n",
    "        #function that checks all diagonals for a given piece\n",
    "        place_win = diags_for_piece(board, [last_move[1], row_placed], player)\n",
    "        if  place_win == player: return player\n",
    "        elif place_win == -player: opp_win = True\n",
    "    \n",
    "    #checking if most recent move was a shift move\n",
    "    if last_move[0] >= 0:\n",
    "        #finding top of most recently shifted column\n",
    "        while board[row_shifted][last_move[0]] == 0 : row_shifted+=1\n",
    "\n",
    "        #loop checks every diagonal for every tile in a shifted row\n",
    "        for row in range(row_shifted, len(board)):\n",
    "\n",
    "            shift_win = diags_for_piece(board, [last_move[0], row], player)\n",
    "            if  shift_win == player: return player\n",
    "            elif shift_win == -player: opp_win = True\n",
    "\n",
    "    #returning 0 if no diagonal rows were found, returning -1 if the opponent achieved a diagonal row and the player didn't\n",
    "    return(0,-player)[opp_win]\n",
    "\n",
    "#terminal state\n",
    "def check_win(board, last_move, player):\n",
    "\n",
    "    #calls all functions that check for 4 in a row\n",
    "    vert_win = check_vertical(board, last_move, player)\n",
    "    horiz_win = check_horizontal(board, last_move, player)\n",
    "    diag_win = check_diagonal(board, last_move, player)\n",
    "\n",
    "    #if either return a win for the current player, return that player\n",
    "    if(vert_win == player or horiz_win == player or diag_win == player): return player\n",
    "    #if the current player didnt win anf either return opponent, return opponent\n",
    "    elif(vert_win == -player or horiz_win == -player or diag_win == -player): return -player\n",
    "    #if no players won, and the entire bottom row has the same piece as the current player (current player can't make a mean move)\n",
    "    elif(vert_win+horiz_win+diag_win == 0 and board[-1] == len(board[-1])*[player]):return 0\n",
    "    return None\n",
    "    \n",
    "#utility\n",
    "def utility(board, last_move, player):\n",
    "    return check_win(board, last_move, player)\n",
    "\n",
    "\n",
    "\n",
    "\n",
    "board = [[0, 0, 0, 0, 0, 0, 0],\n",
    "         [0, 0, 0, 0, 0, 0, 0],\n",
    "         [0, 0, 1, -1, 0, 0, 0],\n",
    "         [0, 1, -1, 1, 0, 0, 0],\n",
    "         [0, -1, 1, -1, 1, 0, 0],\n",
    "         [-1,1,-1, 1,-1, -1, -1]]\n",
    "\n",
    "visualize(board)\n",
    "\n",
    "print(check_diagonal(board,(2,5), 1))\n",
    "\n"
   ]
  },
  {
   "cell_type": "code",
   "execution_count": null,
   "metadata": {},
   "outputs": [],
   "source": []
  },
  {
   "cell_type": "markdown",
   "metadata": {},
   "source": [
    "Implement an agent that plays randomly. Make sure the agent function receives as the percept the board and returns a valid action. Use an agent function definition with the following signature (arguments):\n",
    "\n",
    "`def random_player(board, player = None): ...`\n",
    "\n",
    "The argument `player` is used for agents that do not store what side they are playing. The value passed on bt yhe environment should be 1 ot -1 for playerred and yellow, respectively.  See [Experiments section for tic-tac-toe](https://nbviewer.org/github/mhahsler/CS7320-AI/blob/master/Games/tictactoe_and_or_tree_search.ipynb#Experiments) for an example."
   ]
  },
  {
   "cell_type": "code",
   "execution_count": 7,
   "metadata": {},
   "outputs": [],
   "source": [
    "# Your code/ answer goes here."
   ]
  },
  {
   "cell_type": "markdown",
   "metadata": {},
   "source": [
    "Let two random agents play against each other 1000 times. Look at the [Experiments section for tic-tac-toe](https://nbviewer.org/github/mhahsler/CS7320-AI/blob/master/Games/tictactoe_and_or_tree_search.ipynb#Experiments) to see how the environment uses the agent functions to play against each other.\n",
    "\n",
    "How often does each player win? Is the result expected?"
   ]
  },
  {
   "cell_type": "code",
   "execution_count": 8,
   "metadata": {
    "tags": []
   },
   "outputs": [],
   "source": [
    "# Your code/ answer goes here."
   ]
  },
  {
   "cell_type": "markdown",
   "metadata": {},
   "source": [
    "## Task 3: Minimax Search with Alpha-Beta Pruning [3 points]\n",
    "\n",
    "### Implement the search starting.\n",
    "\n",
    "Implement the search starting from a given board and specifying the player and put it into an agent function.\n",
    "You can use code from the [tic-tac-toe example](https://nbviewer.org/github/mhahsler/CS7320-AI/blob/master/Games/tictactoe_alpha_beta_tree_search.ipynb).\n",
    "\n",
    "__Notes:__ \n",
    "* Make sure that all your agent functions have a signature consistent with the random agent above.\n",
    "* The search space for a $6 \\times 7$ board is large. You can experiment with smaller boards (the smallest is $4 \\times 4$) and/or changing the winning rule to connect 3 instead of 4."
   ]
  },
  {
   "cell_type": "code",
   "execution_count": 9,
   "metadata": {},
   "outputs": [],
   "source": [
    "# Your code/ answer goes here."
   ]
  },
  {
   "cell_type": "markdown",
   "metadata": {},
   "source": [
    "Experiment with some manually created boards (at least 5) to check if the agent spots winning opportunities."
   ]
  },
  {
   "cell_type": "code",
   "execution_count": 10,
   "metadata": {},
   "outputs": [],
   "source": [
    "# Your code/ answer goes here."
   ]
  },
  {
   "cell_type": "markdown",
   "metadata": {},
   "source": [
    "How long does it take to make a move? Start with a smaller board with 4 columns and make the board larger by adding columns."
   ]
  },
  {
   "cell_type": "code",
   "execution_count": 11,
   "metadata": {},
   "outputs": [],
   "source": [
    "# Your code/ answer goes here."
   ]
  },
  {
   "cell_type": "markdown",
   "metadata": {},
   "source": [
    "### Move ordering\n",
    "\n",
    "Starting the search with better moves will increase the efficiency of alpha-beta pruning. Describe and implement a simple move ordering strategy. Make a table that shows how the ordering strategies influence the time it takes to make a move?"
   ]
  },
  {
   "cell_type": "code",
   "execution_count": 12,
   "metadata": {},
   "outputs": [],
   "source": [
    "# Your code/ answer goes here."
   ]
  },
  {
   "cell_type": "markdown",
   "metadata": {},
   "source": [
    "### The first few moves\n",
    "\n",
    "Start with an empty board. This is the worst case scenario for minimax search with alpha-beta pruning since it needs solve all possible games that can be played (minus some pruning) before making the decision. What can you do? "
   ]
  },
  {
   "cell_type": "code",
   "execution_count": 13,
   "metadata": {},
   "outputs": [],
   "source": [
    "# Your code/ answer goes here."
   ]
  },
  {
   "cell_type": "markdown",
   "metadata": {},
   "source": [
    "### Playtime\n",
    "\n",
    "Let the Minimax Search agent play a random agent on a small board. Analyze wins, losses and draws."
   ]
  },
  {
   "cell_type": "code",
   "execution_count": 14,
   "metadata": {},
   "outputs": [],
   "source": [
    "# Your code/ answer goes here."
   ]
  },
  {
   "cell_type": "markdown",
   "metadata": {},
   "source": [
    "## Task 4: Heuristic Alpha-Beta Tree Search [3 points] \n",
    "\n",
    "### Heuristic evaluation function\n",
    "\n",
    "Define and implement a heuristic evaluation function."
   ]
  },
  {
   "cell_type": "code",
   "execution_count": 15,
   "metadata": {},
   "outputs": [],
   "source": [
    "# Your code/ answer goes here."
   ]
  },
  {
   "cell_type": "markdown",
   "metadata": {},
   "source": [
    "### Cutting off search \n",
    "\n",
    "Modify your Minimax Search with Alpha-Beta Pruning to cut off search at a specified depth and use the heuristic evaluation function. Experiment with different cutoff values."
   ]
  },
  {
   "cell_type": "code",
   "execution_count": 16,
   "metadata": {},
   "outputs": [],
   "source": [
    "# Your code/ answer goes here."
   ]
  },
  {
   "cell_type": "markdown",
   "metadata": {},
   "source": [
    "Experiment with the same manually created boards as above to check if the agent spots winning opportunities."
   ]
  },
  {
   "cell_type": "code",
   "execution_count": 17,
   "metadata": {},
   "outputs": [],
   "source": [
    "# Your code/ answer goes here."
   ]
  },
  {
   "cell_type": "markdown",
   "metadata": {},
   "source": [
    "How long does it take to make a move? Start with a smaller board with 4 columns and make the board larger by adding columns."
   ]
  },
  {
   "cell_type": "code",
   "execution_count": 18,
   "metadata": {},
   "outputs": [],
   "source": [
    "# Your code/ answer goes here."
   ]
  },
  {
   "cell_type": "markdown",
   "metadata": {},
   "source": [
    "### Playtime\n",
    "\n",
    "Let two heuristic search agents (different cutoff depth, different heuristic evaluation function) compete against each other on a reasonably sized board. Since there is no randomness, you only need to let them play once."
   ]
  },
  {
   "cell_type": "code",
   "execution_count": 19,
   "metadata": {},
   "outputs": [],
   "source": [
    "# Your code/ answer goes here."
   ]
  },
  {
   "cell_type": "markdown",
   "metadata": {},
   "source": [
    "## Tournament task [+ 1 to 5 bonus point will be assigned separately]\n",
    "\n",
    "Find another student and let your best agent play against the other student's best player. You are allowed to use any improvements you like as long as you code it yourself. We will set up a class tournament on Canvas. This tournament will continue after the submission deadline."
   ]
  },
  {
   "cell_type": "markdown",
   "metadata": {},
   "source": [
    "## Graduate student advanced task: Pure Monte Carlo Search and Best First Move [1 point]\n",
    "\n",
    "__Undergraduate students:__ This is a bonus task you can attempt if you like [+1 Bonus point].\n",
    "\n",
    "### Pure Monte Carlo Search\n",
    "\n",
    "Implement Pure Monte Carlo Search (see [tic-tac-toe-example](https://nbviewer.org/github/mhahsler/CS7320-AI/blob/master/Games/tictactoe_pure_monte_carlo_search.ipynb)) and investigate how this search performs on the test boards that you have used above. "
   ]
  },
  {
   "cell_type": "code",
   "execution_count": 20,
   "metadata": {},
   "outputs": [],
   "source": [
    "# Your code/ answer goes here."
   ]
  },
  {
   "cell_type": "markdown",
   "metadata": {},
   "source": [
    "### Best First Move\n",
    "\n",
    "How would you determine what the best first move for a standard board ($6 \\times 7$) is? You can use Pure Monte Carlo Search or any algorithms that you have implemented above."
   ]
  },
  {
   "cell_type": "code",
   "execution_count": 21,
   "metadata": {},
   "outputs": [],
   "source": [
    "# Your code/ answer goes here."
   ]
  }
 ],
 "metadata": {
  "kernelspec": {
   "display_name": "Python 3 (ipykernel)",
   "language": "python",
   "name": "python3"
  },
  "language_info": {
   "codemirror_mode": {
    "name": "ipython",
    "version": 3
   },
   "file_extension": ".py",
   "mimetype": "text/x-python",
   "name": "python",
   "nbconvert_exporter": "python",
   "pygments_lexer": "ipython3",
   "version": "3.7.11"
  }
 },
 "nbformat": 4,
 "nbformat_minor": 4
}
